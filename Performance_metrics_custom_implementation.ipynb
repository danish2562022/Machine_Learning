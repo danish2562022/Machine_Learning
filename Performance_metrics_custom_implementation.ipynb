{
  "nbformat": 4,
  "nbformat_minor": 0,
  "metadata": {
    "colab": {
      "name": "Performance_metrics_custom_implementation.ipynb",
      "provenance": []
    },
    "kernelspec": {
      "name": "python3",
      "display_name": "Python 3"
    }
  },
  "cells": [
    {
      "cell_type": "code",
      "metadata": {
        "id": "26qKxy7gEZQb"
      },
      "source": [
        "import numpy as np\n",
        "import pandas as pd"
      ],
      "execution_count": 2,
      "outputs": []
    },
    {
      "cell_type": "code",
      "metadata": {
        "id": "3vhstS01HHjp",
        "outputId": "a27b39e7-4adf-4dbd-8d4c-e9d9ffed0901",
        "colab": {
          "base_uri": "https://localhost:8080/",
          "height": 123
        }
      },
      "source": [
        "data=pd.read_csv(\"/content/drive/My Drive/Applied AI-Data/5_a.csv\")\n",
        "print(data.head())"
      ],
      "execution_count": 3,
      "outputs": [
        {
          "output_type": "stream",
          "text": [
            "     y     proba\n",
            "0  1.0  0.637387\n",
            "1  1.0  0.635165\n",
            "2  1.0  0.766586\n",
            "3  1.0  0.724564\n",
            "4  1.0  0.889199\n"
          ],
          "name": "stdout"
        }
      ]
    },
    {
      "cell_type": "code",
      "metadata": {
        "id": "4q18zu1gHZug",
        "outputId": "558b4912-5091-4ed7-dc66-14f236bf4f60",
        "colab": {
          "base_uri": "https://localhost:8080/",
          "height": 70
        }
      },
      "source": [
        "print(data.y.value_counts())"
      ],
      "execution_count": 37,
      "outputs": [
        {
          "output_type": "stream",
          "text": [
            "1.0    10000\n",
            "0.0      100\n",
            "Name: y, dtype: int64\n"
          ],
          "name": "stdout"
        }
      ]
    },
    {
      "cell_type": "markdown",
      "metadata": {
        "id": "v1uOJwqzH46B"
      },
      "source": [
        "Data is highly imbalanced"
      ]
    },
    {
      "cell_type": "code",
      "metadata": {
        "id": "Eqmvc5_NHkCn"
      },
      "source": [
        "y_pred=[]\n",
        "for i in data['proba']:\n",
        "    if i<0.5:\n",
        "        y_pred.append(0)\n",
        "    else:\n",
        "        y_pred.append(1)\n",
        "data[\"y_pred\"]=y_pred"
      ],
      "execution_count": 13,
      "outputs": []
    },
    {
      "cell_type": "code",
      "metadata": {
        "id": "SAVZMqpVuvYd",
        "outputId": "42f4e0ee-325f-48cc-cf05-e7fb17726285",
        "colab": {
          "base_uri": "https://localhost:8080/",
          "height": 52
        }
      },
      "source": [
        "data[\"y_pred\"].value_counts()"
      ],
      "execution_count": 24,
      "outputs": [
        {
          "output_type": "execute_result",
          "data": {
            "text/plain": [
              "1    10100\n",
              "Name: y_pred, dtype: int64"
            ]
          },
          "metadata": {
            "tags": []
          },
          "execution_count": 24
        }
      ]
    },
    {
      "cell_type": "markdown",
      "metadata": {
        "id": "gmceGNRGv-dt"
      },
      "source": [
        "##### All datapoint has been predicted *positive*"
      ]
    },
    {
      "cell_type": "markdown",
      "metadata": {
        "id": "0nILJXakwIM7"
      },
      "source": [
        "### Computing Confusion Matrix"
      ]
    },
    {
      "cell_type": "code",
      "metadata": {
        "id": "f6AIlus1uyGz"
      },
      "source": [
        "def Confusion_matrix(data):\n",
        "    TP=0\n",
        "    FN=0\n",
        "    TN=0\n",
        "    FP=0\n",
        "    for i in range(len(data)):\n",
        "        if data.loc[i][\"y\"]==1:\n",
        "            if data.loc[i][\"y_pred\"]==1:\n",
        "                \n",
        "                TP=TP+1\n",
        "            else:\n",
        "                FN=FN+2\n",
        "        else:\n",
        "            if data.loc[i][\"y_pred\"]==0:\n",
        "                TN=TN+1\n",
        "            else:\n",
        "                FP=FP+1\n",
        "    confusion_matrix=[[TN,FN],[FP,TP]]\n",
        "    return(confusion_matrix,TN,FN,FP,TP)\n"
      ],
      "execution_count": 34,
      "outputs": []
    },
    {
      "cell_type": "code",
      "metadata": {
        "id": "xAC8J3F7xDRM",
        "outputId": "efd1967b-9147-4ee3-8928-ead0bd46aad1",
        "colab": {
          "base_uri": "https://localhost:8080/",
          "height": 34
        }
      },
      "source": [
        "confusion_matrix,TN,FN,FP,TP=Confusion_matrix(data)\n",
        "print(confusion_matrix)"
      ],
      "execution_count": 35,
      "outputs": [
        {
          "output_type": "stream",
          "text": [
            "[[0, 0], [100, 10000]]\n"
          ],
          "name": "stdout"
        }
      ]
    },
    {
      "cell_type": "markdown",
      "metadata": {
        "id": "o0z9t-mx0bcb"
      },
      "source": [
        "### Computing F1 Score"
      ]
    },
    {
      "cell_type": "code",
      "metadata": {
        "id": "H_fScx45xHOo"
      },
      "source": [
        "def f1_score(data):\n",
        "    confusion_matrix,TN,FN,FP,TP=Confusion_matrix(data)\n",
        "    precision=(TP)/(TP+FP)\n",
        "    recall=TP/data.y.value_counts()[1]\n",
        "    F1_Score=((precision*recall)/(precision+recall))*2\n",
        "    return(F1_Score)\n",
        "    \n",
        "    "
      ],
      "execution_count": 49,
      "outputs": []
    },
    {
      "cell_type": "code",
      "metadata": {
        "id": "CU731DSw2IMY",
        "outputId": "feda0990-8d7f-4937-866d-f8ecc6dcfb60",
        "colab": {
          "base_uri": "https://localhost:8080/",
          "height": 34
        }
      },
      "source": [
        "F1_Score=f1_score(data)\n",
        "print(\"F1_Score=\", F1_Score)"
      ],
      "execution_count": 50,
      "outputs": [
        {
          "output_type": "stream",
          "text": [
            "F1_Score= 0.9950248756218906\n"
          ],
          "name": "stdout"
        }
      ]
    },
    {
      "cell_type": "markdown",
      "metadata": {
        "id": "IgG6TGJC272q"
      },
      "source": [
        "Model predicting all datapoints as positive and due to higly imbalanced datapoint(more positive point), F1 Score is high. From the above result we can interpret that F1_Score is not a good measure in case of highly imbalanced dataset"
      ]
    },
    {
      "cell_type": "markdown",
      "metadata": {
        "id": "k0GyDROQ4Q05"
      },
      "source": [
        "### Computing AUC Score"
      ]
    },
    {
      "cell_type": "code",
      "metadata": {
        "id": "xarOWTAq2J67",
        "outputId": "ede94bd0-c3c1-4b77-9cee-58ee40545158",
        "colab": {
          "base_uri": "https://localhost:8080/",
          "height": 34
        }
      },
      "source": [
        ""
      ],
      "execution_count": 42,
      "outputs": [
        {
          "output_type": "execute_result",
          "data": {
            "text/plain": [
              "10000"
            ]
          },
          "metadata": {
            "tags": []
          },
          "execution_count": 42
        }
      ]
    },
    {
      "cell_type": "code",
      "metadata": {
        "id": "ZtFz5dQV2ZiY",
        "outputId": "1832236a-e68c-4255-a953-6ca17d87d218",
        "colab": {
          "base_uri": "https://localhost:8080/",
          "height": 34
        }
      },
      "source": [
        ""
      ],
      "execution_count": 43,
      "outputs": [
        {
          "output_type": "execute_result",
          "data": {
            "text/plain": [
              "10000"
            ]
          },
          "metadata": {
            "tags": []
          },
          "execution_count": 43
        }
      ]
    },
    {
      "cell_type": "code",
      "metadata": {
        "id": "1_2tNFHT2aXV",
        "outputId": "2153ecdc-e0ff-4f0e-fdc6-a3a6d4fad4d2",
        "colab": {
          "base_uri": "https://localhost:8080/",
          "height": 34
        }
      },
      "source": [
        ""
      ],
      "execution_count": 44,
      "outputs": [
        {
          "output_type": "execute_result",
          "data": {
            "text/plain": [
              "100"
            ]
          },
          "metadata": {
            "tags": []
          },
          "execution_count": 44
        }
      ]
    },
    {
      "cell_type": "code",
      "metadata": {
        "id": "nTbL_voF2fCy",
        "outputId": "e01e1d63-c0d2-490d-b530-6721c3796e4e",
        "colab": {
          "base_uri": "https://localhost:8080/",
          "height": 34
        }
      },
      "source": [
        ""
      ],
      "execution_count": 45,
      "outputs": [
        {
          "output_type": "execute_result",
          "data": {
            "text/plain": [
              "0.9900990099009901"
            ]
          },
          "metadata": {
            "tags": []
          },
          "execution_count": 45
        }
      ]
    },
    {
      "cell_type": "code",
      "metadata": {
        "id": "6K68C1qt2iyT",
        "outputId": "18e07a37-f1a5-4793-e0cc-ec6312bec808",
        "colab": {
          "base_uri": "https://localhost:8080/",
          "height": 34
        }
      },
      "source": [
        ""
      ],
      "execution_count": 46,
      "outputs": [
        {
          "output_type": "execute_result",
          "data": {
            "text/plain": [
              "1"
            ]
          },
          "metadata": {
            "tags": []
          },
          "execution_count": 46
        }
      ]
    },
    {
      "cell_type": "code",
      "metadata": {
        "id": "zSkFuChu2k6M"
      },
      "source": [
        ""
      ],
      "execution_count": null,
      "outputs": []
    }
  ]
}