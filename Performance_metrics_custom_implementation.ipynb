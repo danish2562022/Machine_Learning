{
  "nbformat": 4,
  "nbformat_minor": 0,
  "metadata": {
    "colab": {
      "name": "Performance_metrics_custom_implementation.ipynb",
      "provenance": []
    },
    "kernelspec": {
      "name": "python3",
      "display_name": "Python 3"
    }
  },
  "cells": [
    {
      "cell_type": "code",
      "metadata": {
        "id": "26qKxy7gEZQb"
      },
      "source": [
        "import numpy as np\n",
        "import pandas as pd"
      ],
      "execution_count": 28,
      "outputs": []
    },
    {
      "cell_type": "code",
      "metadata": {
        "id": "3vhstS01HHjp",
        "outputId": "cea2c59d-0019-4ad0-bd9d-baf623e5c7d7",
        "colab": {
          "base_uri": "https://localhost:8080/",
          "height": 123
        }
      },
      "source": [
        "df=pd.read_csv(\"/content/drive/My Drive/Applied AI-Data/5_a.csv\")\n",
        "print(df.head())"
      ],
      "execution_count": 29,
      "outputs": [
        {
          "output_type": "stream",
          "text": [
            "     y     proba\n",
            "0  1.0  0.637387\n",
            "1  1.0  0.635165\n",
            "2  1.0  0.766586\n",
            "3  1.0  0.724564\n",
            "4  1.0  0.889199\n"
          ],
          "name": "stdout"
        }
      ]
    },
    {
      "cell_type": "code",
      "metadata": {
        "id": "4q18zu1gHZug",
        "outputId": "b119f917-bd4f-4ea8-dc9d-09d194b7ada5",
        "colab": {
          "base_uri": "https://localhost:8080/",
          "height": 70
        }
      },
      "source": [
        "print(df.y.value_counts())"
      ],
      "execution_count": 30,
      "outputs": [
        {
          "output_type": "stream",
          "text": [
            "1.0    10000\n",
            "0.0      100\n",
            "Name: y, dtype: int64\n"
          ],
          "name": "stdout"
        }
      ]
    },
    {
      "cell_type": "markdown",
      "metadata": {
        "id": "v1uOJwqzH46B"
      },
      "source": [
        "Data is highly imbalanced"
      ]
    },
    {
      "cell_type": "code",
      "metadata": {
        "id": "Eqmvc5_NHkCn"
      },
      "source": [
        "def class_pred(data,threshold):\n",
        "    y_pred=[]\n",
        "    for i in data['proba']:\n",
        "        if i>=threshold:\n",
        "            y_pred.append(1)\n",
        "        else:\n",
        "            y_pred.append(0)\n",
        "    data[\"y_pred\"]=y_pred\n",
        "    return(data)"
      ],
      "execution_count": 31,
      "outputs": []
    },
    {
      "cell_type": "code",
      "metadata": {
        "id": "SAVZMqpVuvYd",
        "outputId": "799e6242-598b-4030-a287-e0bc727c8363",
        "colab": {
          "base_uri": "https://localhost:8080/",
          "height": 52
        }
      },
      "source": [
        "threshold=0.5\n",
        "data=class_pred(df,threshold)\n",
        "data[\"y_pred\"].value_counts()"
      ],
      "execution_count": 32,
      "outputs": [
        {
          "output_type": "execute_result",
          "data": {
            "text/plain": [
              "1    10100\n",
              "Name: y_pred, dtype: int64"
            ]
          },
          "metadata": {
            "tags": []
          },
          "execution_count": 32
        }
      ]
    },
    {
      "cell_type": "markdown",
      "metadata": {
        "id": "gmceGNRGv-dt"
      },
      "source": [
        "##### All datapoint has been predicted *positive*"
      ]
    },
    {
      "cell_type": "markdown",
      "metadata": {
        "id": "0nILJXakwIM7"
      },
      "source": [
        "### Computing Confusion Matrix"
      ]
    },
    {
      "cell_type": "code",
      "metadata": {
        "id": "f6AIlus1uyGz"
      },
      "source": [
        "def Confusion_matrix(data):\n",
        "    TP=0\n",
        "    FN=0\n",
        "    TN=0\n",
        "    FP=0\n",
        "    for i in range(len(data)):\n",
        "        if data.loc[i][\"y\"]==1:\n",
        "            if data.loc[i][\"y_pred\"]==1:\n",
        "\n",
        "                TP=TP+1\n",
        "            else:\n",
        "                FN=FN+1\n",
        "        else:\n",
        "            if data.loc[i][\"y_pred\"]==0:\n",
        "                TN=TN+1\n",
        "            else:\n",
        "                FP=FP+1\n",
        "    confusion_matrix=[[TN,FN],[FP,TP]]\n",
        "    return(confusion_matrix,TN,FN,FP,TP)\n"
      ],
      "execution_count": 33,
      "outputs": []
    },
    {
      "cell_type": "code",
      "metadata": {
        "id": "xAC8J3F7xDRM",
        "outputId": "062ef1dc-061b-4492-9708-1faaabc823f8",
        "colab": {
          "base_uri": "https://localhost:8080/",
          "height": 34
        }
      },
      "source": [
        "confusion_matrix,TN,FN,FP,TP=Confusion_matrix(data)\n",
        "print(confusion_matrix)"
      ],
      "execution_count": 34,
      "outputs": [
        {
          "output_type": "stream",
          "text": [
            "[[0, 0], [100, 10000]]\n"
          ],
          "name": "stdout"
        }
      ]
    },
    {
      "cell_type": "markdown",
      "metadata": {
        "id": "o0z9t-mx0bcb"
      },
      "source": [
        "### Computing F1 Score"
      ]
    },
    {
      "cell_type": "code",
      "metadata": {
        "id": "H_fScx45xHOo"
      },
      "source": [
        "def f1_score(data):\n",
        "    confusion_matrix,TN,FN,FP,TP=Confusion_matrix(data)\n",
        "    precision=(TP)/(TP+FP)\n",
        "    recall=TP/data.y.value_counts()[1]\n",
        "    F1_Score=((precision*recall)/(precision+recall))*2\n",
        "    return(F1_Score)\n",
        "    \n",
        "    "
      ],
      "execution_count": 35,
      "outputs": []
    },
    {
      "cell_type": "code",
      "metadata": {
        "id": "CU731DSw2IMY",
        "outputId": "dd76eb0a-80f6-427f-94a1-92acf25279f5",
        "colab": {
          "base_uri": "https://localhost:8080/",
          "height": 34
        }
      },
      "source": [
        "F1_Score=f1_score(data)\n",
        "print(\"F1_Score=\", F1_Score)"
      ],
      "execution_count": 36,
      "outputs": [
        {
          "output_type": "stream",
          "text": [
            "F1_Score= 0.9950248756218906\n"
          ],
          "name": "stdout"
        }
      ]
    },
    {
      "cell_type": "markdown",
      "metadata": {
        "id": "IgG6TGJC272q"
      },
      "source": [
        "Model predicting all datapoints as positive and due to higly imbalanced datapoint(more positive point), F1 Score is high. From the above result we can interpret that F1_Score is not a good measure in case of highly imbalanced dataset"
      ]
    },
    {
      "cell_type": "markdown",
      "metadata": {
        "id": "k0GyDROQ4Q05"
      },
      "source": [
        "### Computing AUC Score"
      ]
    },
    {
      "cell_type": "code",
      "metadata": {
        "id": "xarOWTAq2J67"
      },
      "source": [
        "def AUC_Score(data):\n",
        "    TPR=[]\n",
        "    FPR=[]\n",
        "    TP=0\n",
        "    FP=0\n",
        "    data.sort_values(by=['proba'], inplace=True,ascending=False)\n",
        "\n",
        "    for i in range(len(data)):\n",
        "        if data.iloc[i,0]==1:\n",
        "            TP=TP+1\n",
        "            FP=FP\n",
        "        else:\n",
        "            FP=FP+1\n",
        "            TP=TP  \n",
        "        TPR.append(TP/data.y.value_counts()[1])\n",
        "        FPR.append(FP/data.y.value_counts()[0])\n",
        "    return(np.trapz(TPR,FPR))\n",
        "    "
      ],
      "execution_count": 37,
      "outputs": []
    },
    {
      "cell_type": "code",
      "metadata": {
        "id": "ZtFz5dQV2ZiY",
        "outputId": "d471e98b-e1da-48dd-846d-0f1f1e70509b",
        "colab": {
          "base_uri": "https://localhost:8080/",
          "height": 34
        }
      },
      "source": [
        "AUC_Score(df)"
      ],
      "execution_count": 38,
      "outputs": [
        {
          "output_type": "execute_result",
          "data": {
            "text/plain": [
              "0.48829900000000004"
            ]
          },
          "metadata": {
            "tags": []
          },
          "execution_count": 38
        }
      ]
    },
    {
      "cell_type": "code",
      "metadata": {
        "id": "1_2tNFHT2aXV",
        "outputId": "4638c4e4-0706-47c8-b790-7a85579071b1",
        "colab": {
          "base_uri": "https://localhost:8080/",
          "height": 34
        }
      },
      "source": [
        "def accuracy(data):\n",
        "    data=class_pred(df,0.5)\n",
        "    confusion_matrix,TN,FN,FP,TP=Confusion_matrix(data)\n",
        "    print(\"Accuracy= \",(TP+TN)/len(data))\n",
        "accuracy(df)\n",
        "\n"
      ],
      "execution_count": 39,
      "outputs": [
        {
          "output_type": "stream",
          "text": [
            "Accuracy=  0.9900990099009901\n"
          ],
          "name": "stdout"
        }
      ]
    },
    {
      "cell_type": "code",
      "metadata": {
        "id": "nTbL_voF2fCy",
        "outputId": "e198795f-b084-47d4-afba-7032559eb39d",
        "colab": {
          "base_uri": "https://localhost:8080/",
          "height": 123
        }
      },
      "source": [
        "df=pd.read_csv(\"/content/drive/My Drive/Applied AI-Data/5_b.csv\")\n",
        "print(df.head())"
      ],
      "execution_count": 40,
      "outputs": [
        {
          "output_type": "stream",
          "text": [
            "     y     proba\n",
            "0  0.0  0.281035\n",
            "1  0.0  0.465152\n",
            "2  0.0  0.352793\n",
            "3  0.0  0.157818\n",
            "4  0.0  0.276648\n"
          ],
          "name": "stdout"
        }
      ]
    },
    {
      "cell_type": "code",
      "metadata": {
        "id": "6K68C1qt2iyT",
        "outputId": "038ed6ed-d876-4fac-9c13-8a23885ca968",
        "colab": {
          "base_uri": "https://localhost:8080/",
          "height": 70
        }
      },
      "source": [
        "threshold=0.5\n",
        "data=class_pred(df,threshold)\n",
        "data[\"y_pred\"].value_counts()"
      ],
      "execution_count": 41,
      "outputs": [
        {
          "output_type": "execute_result",
          "data": {
            "text/plain": [
              "0    9806\n",
              "1     294\n",
              "Name: y_pred, dtype: int64"
            ]
          },
          "metadata": {
            "tags": []
          },
          "execution_count": 41
        }
      ]
    },
    {
      "cell_type": "code",
      "metadata": {
        "id": "zSkFuChu2k6M",
        "outputId": "dd6b081b-8b47-4bac-b71a-9ebcde3376db",
        "colab": {
          "base_uri": "https://localhost:8080/",
          "height": 34
        }
      },
      "source": [
        "confusion_matrix,TN,FN,FP,TP=Confusion_matrix(data)\n",
        "print(confusion_matrix)"
      ],
      "execution_count": 42,
      "outputs": [
        {
          "output_type": "stream",
          "text": [
            "[[9761, 45], [239, 55]]\n"
          ],
          "name": "stdout"
        }
      ]
    },
    {
      "cell_type": "code",
      "metadata": {
        "id": "YqAGcYsU6IpS",
        "outputId": "011d40b9-ae7a-4602-a54b-74e6e63f8452",
        "colab": {
          "base_uri": "https://localhost:8080/",
          "height": 34
        }
      },
      "source": [
        "F1_Score=f1_score(data)\n",
        "print(\"F1_Score=\", F1_Score)"
      ],
      "execution_count": 43,
      "outputs": [
        {
          "output_type": "stream",
          "text": [
            "F1_Score= 0.2791878172588833\n"
          ],
          "name": "stdout"
        }
      ]
    },
    {
      "cell_type": "code",
      "metadata": {
        "id": "I-Mze2T96LAA",
        "outputId": "8920dd3f-b917-4783-eca1-38f1d7ae59ad",
        "colab": {
          "base_uri": "https://localhost:8080/",
          "height": 34
        }
      },
      "source": [
        "AUC_Score(df)"
      ],
      "execution_count": 44,
      "outputs": [
        {
          "output_type": "execute_result",
          "data": {
            "text/plain": [
              "0.9377570000000001"
            ]
          },
          "metadata": {
            "tags": []
          },
          "execution_count": 44
        }
      ]
    },
    {
      "cell_type": "code",
      "metadata": {
        "id": "53l6awl7RaFX",
        "outputId": "02fb8f2b-f777-4927-c76d-b531f23ecd72",
        "colab": {
          "base_uri": "https://localhost:8080/",
          "height": 34
        }
      },
      "source": [
        "accuracy(df)"
      ],
      "execution_count": 45,
      "outputs": [
        {
          "output_type": "stream",
          "text": [
            "Accuracy=  0.9718811881188119\n"
          ],
          "name": "stdout"
        }
      ]
    },
    {
      "cell_type": "code",
      "metadata": {
        "id": "5Vq5OZHg6NS4",
        "outputId": "670928b6-657f-4d3f-fdcf-85c76e6dee72",
        "colab": {
          "base_uri": "https://localhost:8080/",
          "height": 123
        }
      },
      "source": [
        "df=pd.read_csv(\"/content/drive/My Drive/Applied AI-Data/5_c.csv\")\n",
        "print(df.head())"
      ],
      "execution_count": 46,
      "outputs": [
        {
          "output_type": "stream",
          "text": [
            "   y      prob\n",
            "0  0  0.458521\n",
            "1  0  0.505037\n",
            "2  0  0.418652\n",
            "3  0  0.412057\n",
            "4  0  0.375579\n"
          ],
          "name": "stdout"
        }
      ]
    },
    {
      "cell_type": "code",
      "metadata": {
        "id": "gO7wAPLc7f1O",
        "outputId": "b7730c92-7e6a-44d9-e0a2-e79654f1c7f1",
        "colab": {
          "base_uri": "https://localhost:8080/",
          "height": 70
        }
      },
      "source": [
        "def class_pred(data,threshold):\n",
        "    y_pred=[]\n",
        "    for i in data['prob']:\n",
        "        if i>=threshold:\n",
        "            y_pred.append(1)\n",
        "        else:\n",
        "            y_pred.append(0)\n",
        "    data[\"y_pred\"]=y_pred\n",
        "    return(data)\n",
        "threshold=0.5\n",
        "data=class_pred(df,threshold)\n",
        "data[\"y_pred\"].value_counts()"
      ],
      "execution_count": 47,
      "outputs": [
        {
          "output_type": "execute_result",
          "data": {
            "text/plain": [
              "0    2099\n",
              "1     753\n",
              "Name: y_pred, dtype: int64"
            ]
          },
          "metadata": {
            "tags": []
          },
          "execution_count": 47
        }
      ]
    },
    {
      "cell_type": "code",
      "metadata": {
        "id": "5Kri1lN4j6KJ",
        "outputId": "db713620-fed0-4442-b946-fb40ccc838bd",
        "colab": {
          "base_uri": "https://localhost:8080/",
          "height": 34
        }
      },
      "source": [
        "len(data)"
      ],
      "execution_count": 48,
      "outputs": [
        {
          "output_type": "execute_result",
          "data": {
            "text/plain": [
              "2852"
            ]
          },
          "metadata": {
            "tags": []
          },
          "execution_count": 48
        }
      ]
    },
    {
      "cell_type": "code",
      "metadata": {
        "id": "dks-gt-eRjgv"
      },
      "source": [
        "def finding_best_threshold_probability_value(data):\n",
        "    TP=0\n",
        "    FP=0\n",
        "    A=[]\n",
        "    data.sort_values(by=['prob'], inplace=True,ascending=False)\n",
        "\n",
        "    for i in range(len(data)):\n",
        "        if data.iloc[i,0]==1:\n",
        "            TP=TP+1\n",
        "            FP=FP\n",
        "            \n",
        "        else:\n",
        "            FP=FP+1\n",
        "            TP=TP  \n",
        "        FN=data[\"y_pred\"].value_counts()[1]-TP\n",
        "        #print(FN)\n",
        "        A.append(500*FN+100*FP)\n",
        "    #print(A[3755])\n",
        "    #print(len(A))\n",
        "    index_min = np.argmin(A)\n",
        "    print(\" the best threshold (similarly to ROC curve computation) of probability which gives lowest values of metric A = \",data['prob'].iloc[index_min])        \n"
      ],
      "execution_count": 49,
      "outputs": []
    },
    {
      "cell_type": "code",
      "metadata": {
        "id": "hlPgWq8Dg5ys",
        "outputId": "6d73b548-d094-4cca-c2dd-1332ddce6156",
        "colab": {
          "base_uri": "https://localhost:8080/",
          "height": 34
        }
      },
      "source": [
        "finding_best_threshold_probability_value(df)"
      ],
      "execution_count": 50,
      "outputs": [
        {
          "output_type": "stream",
          "text": [
            " the best threshold (similarly to ROC curve computation) of probability which gives lowest values of metric A =  0.2300390278970873\n"
          ],
          "name": "stdout"
        }
      ]
    },
    {
      "cell_type": "markdown",
      "metadata": {
        "id": "hpYibN0S-Tnb"
      },
      "source": [
        "### Accuracy Measure in Regression "
      ]
    },
    {
      "cell_type": "code",
      "metadata": {
        "id": "HgvZC4Bxg8Q5",
        "outputId": "b5227c64-7878-49e3-a7ac-7fb0945aadd6",
        "colab": {
          "base_uri": "https://localhost:8080/",
          "height": 123
        }
      },
      "source": [
        "df=pd.read_csv(\"/content/drive/My Drive/Applied AI-Data/5_d.csv\")\n",
        "print(df.head())"
      ],
      "execution_count": 51,
      "outputs": [
        {
          "output_type": "stream",
          "text": [
            "       y   pred\n",
            "0  101.0  100.0\n",
            "1  120.0  100.0\n",
            "2  131.0  113.0\n",
            "3  164.0  125.0\n",
            "4  154.0  152.0\n"
          ],
          "name": "stdout"
        }
      ]
    },
    {
      "cell_type": "code",
      "metadata": {
        "id": "illcnOSXhm_m",
        "outputId": "06a1c29f-77aa-4979-bd3b-5a04bcb910e7",
        "colab": {
          "base_uri": "https://localhost:8080/",
          "height": 34
        }
      },
      "source": [
        "def Mean_Square_Error(data):\n",
        "    MSE=0\n",
        "    for i in range(len(data)):\n",
        "        MSE=MSE+((data.iloc[i,0]-data.iloc[i,1])**2)\n",
        "    print(MSE/len(data))\n",
        "Mean_Square_Error(df)\n"
      ],
      "execution_count": 54,
      "outputs": [
        {
          "output_type": "stream",
          "text": [
            "177.16569974554707\n"
          ],
          "name": "stdout"
        }
      ]
    }
  ]
}